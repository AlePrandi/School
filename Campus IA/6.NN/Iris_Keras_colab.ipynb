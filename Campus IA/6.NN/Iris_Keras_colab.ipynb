{
 "cells": [
  {
   "cell_type": "markdown",
   "metadata": {},
   "source": [
    "# <center>Programma la tua prima rete neurale\n",
    "\n",
    "<font color=\"orange\" size=5><center>Alessandro Cossard - la rete neurale con Keras </center></font>"
   ]
  },
  {
   "cell_type": "code",
   "execution_count": null,
   "metadata": {
    "colab": {},
    "colab_type": "code",
    "id": "4a4Xmrb8n45N"
   },
   "outputs": [],
   "source": [
    "#!pip install tensorflow\n",
    "#!pip3 install tensorflow"
   ]
  },
  {
   "cell_type": "code",
   "execution_count": null,
   "metadata": {
    "colab": {},
    "colab_type": "code",
    "id": "r4XizhHon45T"
   },
   "outputs": [],
   "source": [
    "import pandas as pd\n",
    "import numpy as np"
   ]
  },
  {
   "cell_type": "code",
   "execution_count": null,
   "metadata": {
    "colab": {},
    "colab_type": "code",
    "id": "I4LbCwUXLi5j"
   },
   "outputs": [],
   "source": [
    "from sklearn.model_selection import train_test_split\n",
    "from sklearn import preprocessing\n",
    "from sklearn.preprocessing import LabelEncoder, OneHotEncoder"
   ]
  },
  {
   "cell_type": "code",
   "execution_count": null,
   "metadata": {
    "colab": {},
    "colab_type": "code",
    "id": "Zq6h_JArLjHw"
   },
   "outputs": [],
   "source": [
    "from keras.utils import np_utils\n",
    "import keras\n",
    "from keras.models import Sequential\n",
    "from keras import layers"
   ]
  },
  {
   "cell_type": "code",
   "execution_count": null,
   "metadata": {
    "colab": {},
    "colab_type": "code",
    "id": "M-kKXSgAn45W"
   },
   "outputs": [],
   "source": [
    "# Usiamo il dataset iris online cosi non importiamo su Colab"
   ]
  },
  {
   "cell_type": "code",
   "execution_count": null,
   "metadata": {
    "colab": {},
    "colab_type": "code",
    "id": "e79gX8ccn45a"
   },
   "outputs": [],
   "source": [
    "iris =  pd.read_csv(\"http://archive.ics.uci.edu/ml/machine-learning-databases/iris/iris.data\", header = 0)"
   ]
  },
  {
   "cell_type": "code",
   "execution_count": null,
   "metadata": {
    "colab": {},
    "colab_type": "code",
    "id": "QcdbZSXLn45e"
   },
   "outputs": [],
   "source": [
    "iris.columns = ['lunghezza_S', 'larghezza_S', 'lunghezza_P', 'larghezza_P', \"Classe\"]"
   ]
  },
  {
   "cell_type": "code",
   "execution_count": null,
   "metadata": {
    "scrolled": true
   },
   "outputs": [],
   "source": [
    "iris"
   ]
  },
  {
   "cell_type": "code",
   "execution_count": null,
   "metadata": {
    "colab": {},
    "colab_type": "code",
    "id": "wpf72B8gn45l"
   },
   "outputs": [],
   "source": [
    "# tolgo le lables stringhe e le metto numeriche"
   ]
  },
  {
   "cell_type": "code",
   "execution_count": null,
   "metadata": {
    "colab": {},
    "colab_type": "code",
    "id": "sB2wW96YLWSp"
   },
   "outputs": [],
   "source": [
    "iris_nl = iris.iloc[:, 0:4]"
   ]
  },
  {
   "cell_type": "code",
   "execution_count": null,
   "metadata": {
    "colab": {},
    "colab_type": "code",
    "id": "S1OHNSH2LZqG"
   },
   "outputs": [],
   "source": [
    "labels =  iris['Classe']"
   ]
  },
  {
   "cell_type": "code",
   "execution_count": null,
   "metadata": {
    "colab": {},
    "colab_type": "code",
    "id": "l61c0Kwbn46K"
   },
   "outputs": [],
   "source": [
    "labels_num = LabelEncoder().fit_transform(labels) "
   ]
  },
  {
   "cell_type": "code",
   "execution_count": null,
   "metadata": {
    "colab": {
     "base_uri": "https://localhost:8080/",
     "height": 134
    },
    "colab_type": "code",
    "id": "-hp65uuHn46O",
    "outputId": "844b1ac7-7feb-45b0-950e-a39254d8af8b"
   },
   "outputs": [],
   "source": [
    "labels_num"
   ]
  },
  {
   "cell_type": "code",
   "execution_count": null,
   "metadata": {
    "colab": {},
    "colab_type": "code",
    "id": "o1ZTUWSvn46R"
   },
   "outputs": [],
   "source": [
    "#splitto come al solito in train e test\n",
    "#x sono le features, y le labels"
   ]
  },
  {
   "cell_type": "code",
   "execution_count": null,
   "metadata": {
    "colab": {},
    "colab_type": "code",
    "id": "LsJeHMppn46U"
   },
   "outputs": [],
   "source": [
    "x_train, x_test, y_train, y_test = train_test_split(iris_nl, labels_num, test_size = 0.3)"
   ]
  },
  {
   "cell_type": "code",
   "execution_count": null,
   "metadata": {
    "colab": {},
    "colab_type": "code",
    "id": "Gteb6G2Fn46i"
   },
   "outputs": [],
   "source": [
    "# trasformo le labels in dummy:\n",
    "#1 = 1 0 0\n",
    "#2 = 0 1 0\n",
    "#3 = 0 0 1"
   ]
  },
  {
   "cell_type": "code",
   "execution_count": null,
   "metadata": {
    "colab": {},
    "colab_type": "code",
    "id": "DEWNaW1ln46m"
   },
   "outputs": [],
   "source": [
    "y_train = np_utils.to_categorical(y_train, 3)\n",
    "y_test = np_utils.to_categorical(y_test, 3)"
   ]
  },
  {
   "cell_type": "code",
   "execution_count": null,
   "metadata": {
    "colab": {},
    "colab_type": "code",
    "id": "kI7sXuXsn46s"
   },
   "outputs": [],
   "source": [
    "# creo il modello\n",
    "model = Sequential()"
   ]
  },
  {
   "cell_type": "code",
   "execution_count": null,
   "metadata": {
    "colab": {},
    "colab_type": "code",
    "id": "WFwXYG6gn46w"
   },
   "outputs": [],
   "source": [
    "#aggiungo le layers\n",
    "model.add(layers.Dense(50, input_dim=x_train.shape[1], activation='relu'))\n",
    "#50 numero di neuroni della prima layer\n",
    "#input_dim è il numero delle features\n",
    "#activation è la funzione di attivazione\n",
    "\n",
    "\n",
    "#aggiungo le altre layers in modo analogo (hidden layers) \n",
    "model.add(layers.Dense(40, activation='relu'))\n",
    "model.add(layers.Dense(30, activation='relu'))\n",
    "model.add(layers.Dense(25, activation='relu'))\n",
    "\n",
    "\n",
    "#strato d'uscita\n",
    "model.add(layers.Dense(3, activation='softmax'))\n",
    "#3 perchè ho 3 lables"
   ]
  },
  {
   "cell_type": "code",
   "execution_count": null,
   "metadata": {
    "colab": {},
    "colab_type": "code",
    "id": "eVM8YwnIn462"
   },
   "outputs": [],
   "source": [
    "#compilo il modello coi vari parametri\n",
    "model.compile(loss='categorical_crossentropy',\n",
    "              optimizer= 'adam',\n",
    "              metrics=['accuracy'])"
   ]
  },
  {
   "cell_type": "code",
   "execution_count": null,
   "metadata": {
    "colab": {
     "base_uri": "https://localhost:8080/",
     "height": 370
    },
    "colab_type": "code",
    "id": "wVCoHFOun464",
    "outputId": "2563f383-ae40-4f13-d7a7-b4fab28318c6"
   },
   "outputs": [],
   "source": [
    "history = model.fit(x_train, y_train, batch_size = 10, epochs = 10, verbose = 1, validation_split = 0.3)"
   ]
  },
  {
   "cell_type": "code",
   "execution_count": null,
   "metadata": {
    "colab": {},
    "colab_type": "code",
    "id": "jzUw5EFpPEp5"
   },
   "outputs": [],
   "source": [
    "#l'accuratezza sale, andrebbe meglio con piu epoche ma ci mette troppo"
   ]
  },
  {
   "cell_type": "code",
   "execution_count": null,
   "metadata": {
    "colab": {
     "base_uri": "https://localhost:8080/",
     "height": 34
    },
    "colab_type": "code",
    "id": "tjBUiSCJn467",
    "outputId": "29104423-e1bd-49eb-a497-7ef77ea9e816"
   },
   "outputs": [],
   "source": [
    "confronto_labels = model.evaluate(x_test, y_test, verbose=1)"
   ]
  },
  {
   "cell_type": "code",
   "execution_count": null,
   "metadata": {
    "colab": {
     "base_uri": "https://localhost:8080/",
     "height": 34
    },
    "colab_type": "code",
    "id": "T9t3sqP9n46-",
    "outputId": "a77a006c-4b32-43c7-a46e-aa5e2c0238c5"
   },
   "outputs": [],
   "source": [
    "confronto_labels #ci prende al 90%"
   ]
  }
 ],
 "metadata": {
  "colab": {
   "collapsed_sections": [],
   "name": "2.Iris Keras colab.ipynb",
   "provenance": []
  },
  "kernelspec": {
   "display_name": "Python 3 (ipykernel)",
   "language": "python",
   "name": "python3"
  },
  "language_info": {
   "codemirror_mode": {
    "name": "ipython",
    "version": 3
   },
   "file_extension": ".py",
   "mimetype": "text/x-python",
   "name": "python",
   "nbconvert_exporter": "python",
   "pygments_lexer": "ipython3",
   "version": "3.8.12"
  }
 },
 "nbformat": 4,
 "nbformat_minor": 1
}
