{
 "cells": [
  {
   "cell_type": "code",
   "execution_count": null,
   "id": "8b641d8a",
   "metadata": {},
   "outputs": [],
   "source": [
    "import networkx as nx\n",
    "import numpy as np\n",
    "from sklearn import svm\n",
    "from sklearn.model_selection import train_test_split\n",
    "%pylab inline"
   ]
  },
  {
   "cell_type": "code",
   "execution_count": null,
   "id": "de3c9683",
   "metadata": {},
   "outputs": [],
   "source": [
    "# Generate a random graph with 50 nodes and 100 edges\n",
    "G = nx.gnm_random_graph(50, 100)"
   ]
  },
  {
   "cell_type": "code",
   "execution_count": null,
   "id": "c44fd4c0",
   "metadata": {},
   "outputs": [],
   "source": [
    "pos2=nx.spring_layout(G, scale=2.0)"
   ]
  },
  {
   "cell_type": "code",
   "execution_count": null,
   "id": "e9cb0f4d",
   "metadata": {},
   "outputs": [],
   "source": [
    "s=nx.draw_networkx_nodes(G,\n",
    "            pos2,\n",
    "            node_size=70.0,\n",
    "            node_color='red',\n",
    "            alpha=0.8,#colore pieno\n",
    "            cmap=plt.cm.jet #mappa colore di tipo \"jet\"\n",
    "            )\n",
    "\n",
    "nx.draw_networkx_edges(G,pos2)\n",
    "\n",
    "#mostro la legenda con i colori corrispondenti al degree\n",
    "#plt.colorbar(s)\n",
    "plt.axis('off')\n",
    "plt.show()"
   ]
  },
  {
   "cell_type": "code",
   "execution_count": null,
   "id": "4d4c725a",
   "metadata": {},
   "outputs": [],
   "source": [
    "# Compute some basic graph features for each node\n",
    "X = np.array([\n",
    "    [\n",
    "        node_degree,\n",
    "        nx.clustering(G, node),\n",
    "        nx.betweenness_centrality(G)[node],\n",
    "        nx.eigenvector_centrality_numpy(G)[node],\n",
    "    ]\n",
    "    for node, node_degree in G.degree()\n",
    "])"
   ]
  },
  {
   "cell_type": "code",
   "execution_count": null,
   "id": "3c5cb11c",
   "metadata": {},
   "outputs": [],
   "source": [
    "# Generate some random binary labels for the nodes\n",
    "y = np.random.randint(2, size=50)"
   ]
  },
  {
   "cell_type": "code",
   "execution_count": null,
   "id": "fde1af3e",
   "metadata": {},
   "outputs": [],
   "source": [
    "y"
   ]
  },
  {
   "cell_type": "code",
   "execution_count": null,
   "id": "207d5b25",
   "metadata": {},
   "outputs": [],
   "source": [
    "s=nx.draw_networkx_nodes(G,\n",
    "            pos2,\n",
    "            node_size=70.0,\n",
    "            node_color=y,\n",
    "            alpha=0.8,#colore pieno\n",
    "            cmap=plt.cm.jet #mappa colore di tipo \"jet\"\n",
    "            )\n",
    "\n",
    "nx.draw_networkx_edges(G,pos2)\n",
    "\n",
    "#mostro la legenda con i colori corrispondenti al degree\n",
    "plt.colorbar(s)\n",
    "plt.axis('off')\n",
    "plt.show()"
   ]
  },
  {
   "cell_type": "code",
   "execution_count": null,
   "id": "38d4397c",
   "metadata": {},
   "outputs": [],
   "source": [
    "# Split the data into training and testing sets\n",
    "X_train, X_test, y_train, y_test = train_test_split(X, y, test_size=0.2)"
   ]
  },
  {
   "cell_type": "code",
   "execution_count": null,
   "id": "8fe6aa5d",
   "metadata": {},
   "outputs": [],
   "source": [
    "# Train a support vector machine (SVM) on the training data\n",
    "clf = svm.SVC()\n",
    "clf.fit(X_train, y_train)"
   ]
  },
  {
   "cell_type": "code",
   "execution_count": null,
   "id": "e38524c8",
   "metadata": {},
   "outputs": [],
   "source": [
    "# Evaluate the model on the test data\n",
    "accuracy = clf.score(X_test, y_test)\n",
    "print(f\"Accuracy: {accuracy}\")"
   ]
  },
  {
   "cell_type": "code",
   "execution_count": null,
   "id": "983616c7",
   "metadata": {},
   "outputs": [],
   "source": []
  },
  {
   "cell_type": "code",
   "execution_count": null,
   "id": "33ef68c1",
   "metadata": {},
   "outputs": [],
   "source": []
  }
 ],
 "metadata": {
  "kernelspec": {
   "display_name": "Python 3 (ipykernel)",
   "language": "python",
   "name": "python3"
  },
  "language_info": {
   "codemirror_mode": {
    "name": "ipython",
    "version": 3
   },
   "file_extension": ".py",
   "mimetype": "text/x-python",
   "name": "python",
   "nbconvert_exporter": "python",
   "pygments_lexer": "ipython3",
   "version": "3.8.12"
  }
 },
 "nbformat": 4,
 "nbformat_minor": 5
}
