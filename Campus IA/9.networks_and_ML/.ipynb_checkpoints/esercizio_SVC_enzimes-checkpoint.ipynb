{
 "cells": [
  {
   "cell_type": "code",
   "execution_count": 1,
   "id": "76bbb1d7",
   "metadata": {},
   "outputs": [
    {
     "name": "stdout",
     "output_type": "stream",
     "text": [
      "Populating the interactive namespace from numpy and matplotlib\n"
     ]
    }
   ],
   "source": [
    "import networkx as nx\n",
    "import pandas as pd\n",
    "from sklearn.model_selection import train_test_split\n",
    "%pylab inline"
   ]
  },
  {
   "cell_type": "code",
   "execution_count": null,
   "id": "72d8628b",
   "metadata": {},
   "outputs": [],
   "source": [
    "#crea e popola la rete"
   ]
  },
  {
   "cell_type": "code",
   "execution_count": null,
   "id": "572197f3",
   "metadata": {},
   "outputs": [],
   "source": [
    "#plotta la rete e colora i nodi sulla base dell'attributo che preferisci"
   ]
  },
  {
   "cell_type": "code",
   "execution_count": null,
   "id": "10e69720",
   "metadata": {},
   "outputs": [],
   "source": [
    "#estrai le features"
   ]
  },
  {
   "cell_type": "code",
   "execution_count": null,
   "id": "0b002366",
   "metadata": {},
   "outputs": [],
   "source": [
    "#assegna le labels"
   ]
  },
  {
   "cell_type": "code",
   "execution_count": null,
   "id": "efe4b484",
   "metadata": {},
   "outputs": [],
   "source": [
    "#crea e allena il modello che preferisci. Ricordati di importarlo!"
   ]
  },
  {
   "cell_type": "code",
   "execution_count": null,
   "id": "d973efdc",
   "metadata": {},
   "outputs": [],
   "source": [
    "#valuta il modello"
   ]
  },
  {
   "cell_type": "code",
   "execution_count": null,
   "id": "740d84ac",
   "metadata": {},
   "outputs": [],
   "source": []
  }
 ],
 "metadata": {
  "kernelspec": {
   "display_name": "Python 3 (ipykernel)",
   "language": "python",
   "name": "python3"
  },
  "language_info": {
   "codemirror_mode": {
    "name": "ipython",
    "version": 3
   },
   "file_extension": ".py",
   "mimetype": "text/x-python",
   "name": "python",
   "nbconvert_exporter": "python",
   "pygments_lexer": "ipython3",
   "version": "3.8.12"
  }
 },
 "nbformat": 4,
 "nbformat_minor": 5
}
