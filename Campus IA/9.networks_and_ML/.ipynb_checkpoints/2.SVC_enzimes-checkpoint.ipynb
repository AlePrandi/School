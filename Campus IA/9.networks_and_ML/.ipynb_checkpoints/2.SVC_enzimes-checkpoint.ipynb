{
 "cells": [
  {
   "cell_type": "code",
   "execution_count": null,
   "id": "76bbb1d7",
   "metadata": {},
   "outputs": [],
   "source": [
    "import networkx as nx\n",
    "import pandas as pd\n",
    "from sklearn import svm\n",
    "from sklearn.model_selection import train_test_split\n",
    "%pylab inline"
   ]
  },
  {
   "cell_type": "code",
   "execution_count": null,
   "id": "7fed6477",
   "metadata": {},
   "outputs": [],
   "source": [
    "H=nx.Graph()"
   ]
  },
  {
   "cell_type": "code",
   "execution_count": null,
   "id": "6b71563b",
   "metadata": {},
   "outputs": [],
   "source": [
    "#from google.colab import files\n",
    "\n",
    "#uploaded = files.upload()"
   ]
  },
  {
   "cell_type": "code",
   "execution_count": null,
   "id": "8d47534b",
   "metadata": {},
   "outputs": [],
   "source": [
    "fh=open('ENZYMES296.edges','r')\n",
    "#reading all the file lines\n",
    "for line in fh.readlines():\n",
    "    #remove \"\\n\" characters (.strip()) and split the line at blank spaces (split.())\n",
    "    s=line.strip().split()\n",
    "    if s[0]!='#':\n",
    "        #the first lines are comments\n",
    "        origin=int(s[0])\n",
    "        dest=int(s[1])\n",
    "        H.add_edge(origin,dest)\n",
    "    \n",
    "#chiudo il file\n",
    "fh.close()"
   ]
  },
  {
   "cell_type": "code",
   "execution_count": null,
   "id": "c29f85d1",
   "metadata": {},
   "outputs": [],
   "source": [
    "pos2=nx.spring_layout(H, scale=2.0)"
   ]
  },
  {
   "cell_type": "code",
   "execution_count": null,
   "id": "cd6ddbf1",
   "metadata": {},
   "outputs": [],
   "source": [
    "s=nx.draw_networkx_nodes(H,\n",
    "            pos2,\n",
    "            node_size=70.0,\n",
    "            node_color=[H.degree(v) for v in H],\n",
    "            alpha=0.8,#colore pieno\n",
    "            cmap=plt.cm.jet #mappa colore di tipo \"jet\"\n",
    "            )\n",
    "\n",
    "nx.draw_networkx_edges(H,pos2)\n",
    "\n",
    "#mostro la legenda con i colori corrispondenti al degree\n",
    "plt.colorbar(s)\n",
    "plt.axis('off')\n",
    "plt.show()"
   ]
  },
  {
   "cell_type": "code",
   "execution_count": null,
   "id": "7d08abbf",
   "metadata": {},
   "outputs": [],
   "source": []
  },
  {
   "cell_type": "markdown",
   "id": "a3c708a6",
   "metadata": {},
   "source": [
    "# Estraiamo le fetures"
   ]
  },
  {
   "cell_type": "code",
   "execution_count": null,
   "id": "0aad1709",
   "metadata": {},
   "outputs": [],
   "source": [
    "features = np.array([\n",
    "    [\n",
    "        node_degree,\n",
    "        nx.clustering(H, node),\n",
    "        nx.betweenness_centrality(H)[node],\n",
    "        nx.eigenvector_centrality_numpy(H)[node],\n",
    "    ]\n",
    "    for node, node_degree in H.degree()\n",
    "])"
   ]
  },
  {
   "cell_type": "code",
   "execution_count": null,
   "id": "a49a80e1",
   "metadata": {
    "scrolled": true
   },
   "outputs": [],
   "source": [
    "df = pd.DataFrame(features)"
   ]
  },
  {
   "cell_type": "code",
   "execution_count": null,
   "id": "ba2a8101",
   "metadata": {},
   "outputs": [],
   "source": [
    "df = df.rename(columns={0: 'Degree', 1: 'clustering', 2:'betweenness',3:'eigenvector'})"
   ]
  },
  {
   "cell_type": "code",
   "execution_count": null,
   "id": "8e17acdc",
   "metadata": {},
   "outputs": [],
   "source": [
    "df"
   ]
  },
  {
   "cell_type": "code",
   "execution_count": null,
   "id": "ccb3dffb",
   "metadata": {},
   "outputs": [],
   "source": [
    "fh=open('ENZYMES296.node_labels','r')\n",
    "labels=[]\n",
    "for i in fh:\n",
    "    labels.append(i)\n",
    "fh.close()"
   ]
  },
  {
   "cell_type": "code",
   "execution_count": null,
   "id": "d9d8c303",
   "metadata": {},
   "outputs": [],
   "source": [
    "labels_2 = []\n",
    "for i in labels:\n",
    "    labels_2.append(i.strip().split())"
   ]
  },
  {
   "cell_type": "code",
   "execution_count": null,
   "id": "328917d4",
   "metadata": {},
   "outputs": [],
   "source": [
    "df['labels'] = pd.DataFrame(labels_2)[1].astype(int)"
   ]
  },
  {
   "cell_type": "code",
   "execution_count": null,
   "id": "bf34472d",
   "metadata": {},
   "outputs": [],
   "source": [
    "df"
   ]
  },
  {
   "cell_type": "code",
   "execution_count": null,
   "id": "390effe0",
   "metadata": {},
   "outputs": [],
   "source": []
  },
  {
   "cell_type": "markdown",
   "id": "01355475",
   "metadata": {},
   "source": [
    "# Coloro in base alla LABEL"
   ]
  },
  {
   "cell_type": "code",
   "execution_count": null,
   "id": "3be70fea",
   "metadata": {},
   "outputs": [],
   "source": [
    "s=nx.draw_networkx_nodes(H,\n",
    "            pos2,\n",
    "            node_size=70.0,\n",
    "            node_color=[df.labels],\n",
    "            alpha=0.8,#colore pieno\n",
    "            cmap=plt.cm.jet #mappa colore di tipo \"jet\"\n",
    "            )\n",
    "\n",
    "nx.draw_networkx_edges(H,pos2)\n",
    "\n",
    "#mostro la legenda con i colori corrispondenti al degree\n",
    "plt.colorbar(s)\n",
    "plt.axis('off')\n",
    "plt.show()"
   ]
  },
  {
   "cell_type": "code",
   "execution_count": null,
   "id": "6f46128e",
   "metadata": {},
   "outputs": [],
   "source": []
  },
  {
   "cell_type": "markdown",
   "id": "c92a2b47",
   "metadata": {},
   "source": [
    "# Alleno il modello"
   ]
  },
  {
   "cell_type": "code",
   "execution_count": null,
   "id": "10dfaed5",
   "metadata": {},
   "outputs": [],
   "source": [
    "X = df.drop('labels',axis=1)"
   ]
  },
  {
   "cell_type": "code",
   "execution_count": null,
   "id": "2f500d58",
   "metadata": {},
   "outputs": [],
   "source": [
    "y = df.labels"
   ]
  },
  {
   "cell_type": "code",
   "execution_count": null,
   "id": "f51ba3af",
   "metadata": {},
   "outputs": [],
   "source": [
    "X_train, X_test, y_train, y_test = train_test_split(X, y, test_size=0.2)"
   ]
  },
  {
   "cell_type": "code",
   "execution_count": null,
   "id": "a441f7d5",
   "metadata": {},
   "outputs": [],
   "source": [
    "# Train a support vector machine (SVM) on the training data\n",
    "clf = svm.SVC()\n",
    "clf.fit(X_train, y_train)"
   ]
  },
  {
   "cell_type": "code",
   "execution_count": null,
   "id": "f0b7d2d5",
   "metadata": {},
   "outputs": [],
   "source": [
    "# Evaluate the model on the test data\n",
    "accuracy = clf.score(X_test, y_test)\n",
    "print(f\"Accuracy: {accuracy}\")"
   ]
  },
  {
   "cell_type": "code",
   "execution_count": null,
   "id": "740d84ac",
   "metadata": {},
   "outputs": [],
   "source": []
  }
 ],
 "metadata": {
  "kernelspec": {
   "display_name": "Python 3 (ipykernel)",
   "language": "python",
   "name": "python3"
  },
  "language_info": {
   "codemirror_mode": {
    "name": "ipython",
    "version": 3
   },
   "file_extension": ".py",
   "mimetype": "text/x-python",
   "name": "python",
   "nbconvert_exporter": "python",
   "pygments_lexer": "ipython3",
   "version": "3.8.12"
  }
 },
 "nbformat": 4,
 "nbformat_minor": 5
}
