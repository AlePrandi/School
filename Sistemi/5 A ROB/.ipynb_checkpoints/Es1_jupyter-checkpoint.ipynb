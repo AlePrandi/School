{
 "cells": [
  {
   "cell_type": "markdown",
   "id": "3a86435d",
   "metadata": {},
   "source": [
    "# il primo notebook di microrobotica\n",
    "Questo è il primo esempio di notebook jupyter in **5AROB**."
   ]
  },
  {
   "cell_type": "code",
   "execution_count": 1,
   "id": "713590c8",
   "metadata": {},
   "outputs": [
    {
     "name": "stdout",
     "output_type": "stream",
     "text": [
      "3\n"
     ]
    }
   ],
   "source": [
    "a = 1\n",
    "b = 2\n",
    "print(a + b)"
   ]
  },
  {
   "cell_type": "markdown",
   "id": "e33796a7",
   "metadata": {},
   "source": [
    "**ATTENZIONE**: il name space di un notebook è condiviso da tutte le sue celle \n",
    "\n",
    "**scrivendo il nome di una variabile e premendo Shift + Invio si può vedere il valore della variabile**"
   ]
  },
  {
   "cell_type": "code",
   "execution_count": 2,
   "id": "8ab7a08f",
   "metadata": {},
   "outputs": [
    {
     "name": "stdout",
     "output_type": "stream",
     "text": [
      "1\n"
     ]
    }
   ],
   "source": [
    "print(a)"
   ]
  },
  {
   "cell_type": "code",
   "execution_count": null,
   "id": "1fe22968",
   "metadata": {},
   "outputs": [],
   "source": [
    "c = \"mario\""
   ]
  },
  {
   "cell_type": "code",
   "execution_count": 3,
   "id": "db40edef",
   "metadata": {
    "scrolled": true
   },
   "outputs": [
    {
     "ename": "NameError",
     "evalue": "name 'c' is not defined",
     "output_type": "error",
     "traceback": [
      "\u001b[1;31m---------------------------------------------------------------------------\u001b[0m",
      "\u001b[1;31mNameError\u001b[0m                                 Traceback (most recent call last)",
      "\u001b[1;32m~\\AppData\\Local\\Temp\\ipykernel_9700\\2743823995.py\u001b[0m in \u001b[0;36m<module>\u001b[1;34m\u001b[0m\n\u001b[1;32m----> 1\u001b[1;33m \u001b[0mprint\u001b[0m\u001b[1;33m(\u001b[0m\u001b[0mc\u001b[0m\u001b[1;33m)\u001b[0m\u001b[1;33m\u001b[0m\u001b[1;33m\u001b[0m\u001b[0m\n\u001b[0m",
      "\u001b[1;31mNameError\u001b[0m: name 'c' is not defined"
     ]
    }
   ],
   "source": [
    "print(c)"
   ]
  },
  {
   "cell_type": "code",
   "execution_count": null,
   "id": "a1539752",
   "metadata": {},
   "outputs": [],
   "source": [
    "c"
   ]
  },
  {
   "cell_type": "markdown",
   "id": "79601e41",
   "metadata": {},
   "source": [
    "## Ripasso sui dizionari"
   ]
  },
  {
   "cell_type": "code",
   "execution_count": null,
   "id": "be330313",
   "metadata": {},
   "outputs": [],
   "source": [
    "letter2number = {}\n",
    "number2letter = {}"
   ]
  },
  {
   "cell_type": "code",
   "execution_count": null,
   "id": "72ad29b9",
   "metadata": {},
   "outputs": [],
   "source": [
    "letters = \"abcdefghilmnopqrstuvz\"\n",
    "len(letters)\n",
    "for number,letter in enumerate(letters):\n",
    "    letter2number[letter] = number\n",
    "    number2letter[number] = letter"
   ]
  },
  {
   "cell_type": "code",
   "execution_count": 4,
   "id": "acab2829",
   "metadata": {},
   "outputs": [
    {
     "name": "stdout",
     "output_type": "stream",
     "text": [
      "write a phrase: ciao come va ?\n"
     ]
    }
   ],
   "source": [
    "string = input(\"write a phrase: \")\n"
   ]
  },
  {
   "cell_type": "code",
   "execution_count": null,
   "id": "3b001bde",
   "metadata": {},
   "outputs": [],
   "source": [
    "new_string = []\n",
    "for c in string:\n",
    "    "
   ]
  }
 ],
 "metadata": {
  "kernelspec": {
   "display_name": "Python 3 (ipykernel)",
   "language": "python",
   "name": "python3"
  },
  "language_info": {
   "codemirror_mode": {
    "name": "ipython",
    "version": 3
   },
   "file_extension": ".py",
   "mimetype": "text/x-python",
   "name": "python",
   "nbconvert_exporter": "python",
   "pygments_lexer": "ipython3",
   "version": "3.12.4"
  }
 },
 "nbformat": 4,
 "nbformat_minor": 5
}
