{
 "cells": [
  {
   "cell_type": "code",
   "execution_count": 1,
   "metadata": {},
   "outputs": [],
   "source": [
    "import numpy as np\n",
    "import matplotlib.pyplot as plt"
   ]
  },
  {
   "cell_type": "code",
   "execution_count": 5,
   "metadata": {},
   "outputs": [],
   "source": [
    "def stop_function(x):\n",
    "    return 1 if x >= 0 else 0\n",
    "\n",
    "def perceptron_or(x1, x2):\n",
    "    w1 = 1\n",
    "    w2 = 1 \n",
    "    bias = 0.5\n",
    "    \n",
    "    weighted_sum = w1*x1 + w2*x2 + bias\n",
    "    return stop_function(weighted_sum)"
   ]
  },
  {
   "cell_type": "code",
   "execution_count": null,
   "metadata": {},
   "outputs": [],
   "source": [
    "class perceptron():\n",
    "    def __init__(self, n, ir = 0.1, n_epoche = 100):\n",
    "        self.n = n\n",
    "        self.ir = ir\n",
    "        self.n_epoche = n_epoche\n",
    "        self.w = np.random.rand(n)\n",
    "        self.b = np.random.rand()"
   ]
  }
 ],
 "metadata": {
  "kernelspec": {
   "display_name": "Python 3",
   "language": "python",
   "name": "python3"
  },
  "language_info": {
   "codemirror_mode": {
    "name": "ipython",
    "version": 3
   },
   "file_extension": ".py",
   "mimetype": "text/x-python",
   "name": "python",
   "nbconvert_exporter": "python",
   "pygments_lexer": "ipython3",
   "version": "3.12.5"
  }
 },
 "nbformat": 4,
 "nbformat_minor": 2
}
