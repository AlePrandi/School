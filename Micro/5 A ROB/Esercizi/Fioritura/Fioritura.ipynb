{
 "cells": [
  {
   "cell_type": "code",
   "execution_count": null,
   "metadata": {},
   "outputs": [],
   "source": [
    "import numpy as np\n",
    "import matplotlib.pyplot as plt\n",
    "import pandas as pd\n",
    "from sklearn.model_selection import train_test_split\n",
    "from sklearn.linear_model import LinearRegression\n",
    "from sklearn.discriminant_analysis import StandardScaler"
   ]
  },
  {
   "cell_type": "code",
   "execution_count": 3,
   "metadata": {},
   "outputs": [
    {
     "data": {
      "application/vnd.microsoft.datawrangler.viewer.v0+json": {
       "columns": [
        {
         "name": "index",
         "rawType": "int64",
         "type": "integer"
        },
        {
         "name": "AD",
         "rawType": "int64",
         "type": "integer"
        },
        {
         "name": "Full-flowering date (DOY)",
         "rawType": "float64",
         "type": "float"
        },
        {
         "name": "Full-flowering date",
         "rawType": "float64",
         "type": "float"
        },
        {
         "name": "Source code",
         "rawType": "float64",
         "type": "float"
        },
        {
         "name": "Data type code",
         "rawType": "float64",
         "type": "float"
        },
        {
         "name": "Reference Name",
         "rawType": "object",
         "type": "string"
        }
       ],
       "conversionMethod": "pd.DataFrame",
       "ref": "5fd118c9-8575-42f0-b728-4064cff8bd1e",
       "rows": [
        [
         "0",
         "1900",
         "102.0",
         "412.0",
         "4.0",
         "0.0",
         "NEWS-PAPER(ARASHIYAMA)"
        ],
        [
         "1",
         "1901",
         "102.0",
         "412.0",
         "4.0",
         "0.0",
         "NEWS-PAPER(ARASHIYAMA)"
        ],
        [
         "2",
         "1902",
         "98.0",
         "408.0",
         "4.0",
         "0.0",
         "KYOTO-TETUDO-KANRIKYOKU ADV(ARASHIYAMA)"
        ],
        [
         "3",
         "1903",
         "99.0",
         "409.0",
         "4.0",
         "0.0",
         "NEWS-PAPER(ARASHIYAMA)"
        ],
        [
         "4",
         "1904",
         "108.0",
         "417.0",
         "4.0",
         "0.0",
         "NEWS-PAPER(ARASHIYAMA)"
        ]
       ],
       "shape": {
        "columns": 6,
        "rows": 5
       }
      },
      "text/html": [
       "<div>\n",
       "<style scoped>\n",
       "    .dataframe tbody tr th:only-of-type {\n",
       "        vertical-align: middle;\n",
       "    }\n",
       "\n",
       "    .dataframe tbody tr th {\n",
       "        vertical-align: top;\n",
       "    }\n",
       "\n",
       "    .dataframe thead th {\n",
       "        text-align: right;\n",
       "    }\n",
       "</style>\n",
       "<table border=\"1\" class=\"dataframe\">\n",
       "  <thead>\n",
       "    <tr style=\"text-align: right;\">\n",
       "      <th></th>\n",
       "      <th>AD</th>\n",
       "      <th>Full-flowering date (DOY)</th>\n",
       "      <th>Full-flowering date</th>\n",
       "      <th>Source code</th>\n",
       "      <th>Data type code</th>\n",
       "      <th>Reference Name</th>\n",
       "    </tr>\n",
       "  </thead>\n",
       "  <tbody>\n",
       "    <tr>\n",
       "      <th>0</th>\n",
       "      <td>1900</td>\n",
       "      <td>102.0</td>\n",
       "      <td>412.0</td>\n",
       "      <td>4.0</td>\n",
       "      <td>0.0</td>\n",
       "      <td>NEWS-PAPER(ARASHIYAMA)</td>\n",
       "    </tr>\n",
       "    <tr>\n",
       "      <th>1</th>\n",
       "      <td>1901</td>\n",
       "      <td>102.0</td>\n",
       "      <td>412.0</td>\n",
       "      <td>4.0</td>\n",
       "      <td>0.0</td>\n",
       "      <td>NEWS-PAPER(ARASHIYAMA)</td>\n",
       "    </tr>\n",
       "    <tr>\n",
       "      <th>2</th>\n",
       "      <td>1902</td>\n",
       "      <td>98.0</td>\n",
       "      <td>408.0</td>\n",
       "      <td>4.0</td>\n",
       "      <td>0.0</td>\n",
       "      <td>KYOTO-TETUDO-KANRIKYOKU ADV(ARASHIYAMA)</td>\n",
       "    </tr>\n",
       "    <tr>\n",
       "      <th>3</th>\n",
       "      <td>1903</td>\n",
       "      <td>99.0</td>\n",
       "      <td>409.0</td>\n",
       "      <td>4.0</td>\n",
       "      <td>0.0</td>\n",
       "      <td>NEWS-PAPER(ARASHIYAMA)</td>\n",
       "    </tr>\n",
       "    <tr>\n",
       "      <th>4</th>\n",
       "      <td>1904</td>\n",
       "      <td>108.0</td>\n",
       "      <td>417.0</td>\n",
       "      <td>4.0</td>\n",
       "      <td>0.0</td>\n",
       "      <td>NEWS-PAPER(ARASHIYAMA)</td>\n",
       "    </tr>\n",
       "  </tbody>\n",
       "</table>\n",
       "</div>"
      ],
      "text/plain": [
       "     AD  Full-flowering date (DOY)  Full-flowering date  Source code  \\\n",
       "0  1900                      102.0                412.0          4.0   \n",
       "1  1901                      102.0                412.0          4.0   \n",
       "2  1902                       98.0                408.0          4.0   \n",
       "3  1903                       99.0                409.0          4.0   \n",
       "4  1904                      108.0                417.0          4.0   \n",
       "\n",
       "   Data type code                           Reference Name  \n",
       "0             0.0                   NEWS-PAPER(ARASHIYAMA)  \n",
       "1             0.0                   NEWS-PAPER(ARASHIYAMA)  \n",
       "2             0.0  KYOTO-TETUDO-KANRIKYOKU ADV(ARASHIYAMA)  \n",
       "3             0.0                   NEWS-PAPER(ARASHIYAMA)  \n",
       "4             0.0                   NEWS-PAPER(ARASHIYAMA)  "
      ]
     },
     "execution_count": 3,
     "metadata": {},
     "output_type": "execute_result"
    }
   ],
   "source": [
    "data = pd.read_csv(\"./KyotoDataset.csv\")\n",
    "data.head()"
   ]
  },
  {
   "cell_type": "code",
   "execution_count": null,
   "metadata": {},
   "outputs": [],
   "source": [
    "X = data[\"AD\"].values\n",
    "y = data[\"Full-flowering date (DOY)\"].values\n",
    "\n",
    "sc_x = StandardScaler()\n",
    "sc_y = StandardScaler()"
   ]
  }
 ],
 "metadata": {
  "kernelspec": {
   "display_name": "Python 3",
   "language": "python",
   "name": "python3"
  },
  "language_info": {
   "codemirror_mode": {
    "name": "ipython",
    "version": 3
   },
   "file_extension": ".py",
   "mimetype": "text/x-python",
   "name": "python",
   "nbconvert_exporter": "python",
   "pygments_lexer": "ipython3",
   "version": "3.12.5"
  }
 },
 "nbformat": 4,
 "nbformat_minor": 2
}
