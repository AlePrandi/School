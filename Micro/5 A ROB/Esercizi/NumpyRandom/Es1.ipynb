{
 "cells": [
  {
   "cell_type": "markdown",
   "id": "007d6e3c-ec5d-4587-8a1f-fcf489ed88bb",
   "metadata": {},
   "source": [
    "# Esercizio 1"
   ]
  },
  {
   "cell_type": "markdown",
   "id": "a687069e-5b34-4174-a329-b4d544fda9e2",
   "metadata": {},
   "source": [
    "### FUNZIONI PER CALCOLARE N-GRAMMI"
   ]
  },
  {
   "cell_type": "code",
   "execution_count": null,
   "id": "28bee308-ddce-42a4-90f7-a66eb9820a38",
   "metadata": {},
   "outputs": [],
   "source": [
    "import random"
   ]
  },
  {
   "cell_type": "code",
   "execution_count": null,
   "id": "8338d79f-71d6-41bc-bbdf-338de59f583e",
   "metadata": {},
   "outputs": [],
   "source": [
    "def create_ngram(your_list):\n",
    "    text = \"\".join(your_list)\n",
    "    n = int(input(\"inserisci il numero di lettere per ogni combinazione: \")) \n",
    "    cont_comb = {}\n",
    "    for pos in range(0,len(text) - n):\n",
    "            combinazione = element[pos:pos+n]\n",
    "            if combinazione in cont_comb:\n",
    "                cont_comb[combinazione] += 1\n",
    "            else:\n",
    "                cont_comb[combinazione] = 1\n",
    "    return cont_comb\n"
   ]
  },
  {
   "cell_type": "code",
   "execution_count": null,
   "id": "e31c5705-1cd9-4781-85be-60877a64c82e",
   "metadata": {},
   "outputs": [],
   "source": [
    "def possible_successor(your_list, n):\n",
    "    text = \"\".join(your_list)\n",
    "    diz_comb = {}\n",
    "    \n",
    "    for pos in range(0, len(text) - n):\n",
    "        combinazione = text[pos:pos+n]  # Corretto da 'element' a 'text'\n",
    "        next_char = text[pos+n]\n",
    "        \n",
    "        if combinazione in diz_comb:\n",
    "            diz_comb[combinazione].append(next_char)\n",
    "        else:\n",
    "            diz_comb[combinazione] = [next_char]  # Inizializza la lista con il primo 'next_char'\n",
    "    \n",
    "    return diz_comb\n",
    "\n",
    "    "
   ]
  },
  {
   "cell_type": "code",
   "execution_count": null,
   "id": "ecae01fa-edc5-46e3-b3b9-6f6bf68f66b8",
   "metadata": {},
   "outputs": [],
   "source": [
    "righe = []\n",
    "with open(\"./OSCAR_WILDE_Il_fantasma_di_Canterville.txt\", 'r') as file:\n",
    "        righe = {riga for riga in file.readlines() if len(riga) > 1}\n",
    "\n",
    "print(len(righe))    "
   ]
  },
  {
   "cell_type": "code",
   "execution_count": null,
   "id": "e5885b7d-31db-4eba-b368-17c08c87767a",
   "metadata": {},
   "outputs": [],
   "source": [
    "n_char = 0\n",
    "max_len = \"\"\n",
    "for element in righe:\n",
    "    if len(element) > len(max_len):\n",
    "        max_len = element\n",
    "    n_char += len(element)\n",
    "\n",
    "print(n_char)\n",
    "print(max_len)"
   ]
  },
  {
   "cell_type": "code",
   "execution_count": null,
   "id": "18b35b00-ea37-4fdd-868a-23d03044f080",
   "metadata": {},
   "outputs": [],
   "source": [
    "for element in righe:\n",
    "    print(element[0])"
   ]
  },
  {
   "cell_type": "code",
   "execution_count": null,
   "id": "6b080826-73f0-4b59-b8e9-965f0ccf3880",
   "metadata": {},
   "outputs": [],
   "source": [
    "cont_lettere = {}\n",
    "for element in righe:\n",
    "    for c in element:\n",
    "        if c in cont_lettere:\n",
    "            cont_lettere[c] += 1\n",
    "        else:\n",
    "            cont_lettere[c] = 1\n",
    "print(cont_lettere)"
   ]
  },
  {
   "cell_type": "markdown",
   "id": "b53e380f-bded-4f37-a250-45a8f51756c2",
   "metadata": {},
   "source": [
    "# ES CON FUNZIONI"
   ]
  },
  {
   "cell_type": "code",
   "execution_count": null,
   "id": "a6d291dc-108e-46a8-ac31-8e9b17481cdd",
   "metadata": {},
   "outputs": [],
   "source": [
    "text = \"\".join(righe)\n",
    "#create_gram(righe)\n",
    "print(possible_successor(righe,5))"
   ]
  },
  {
   "cell_type": "code",
   "execution_count": null,
   "id": "6faf3af1-0248-43ed-b5d4-4d676813a7b4",
   "metadata": {},
   "outputs": [],
   "source": [
    "starting_sequence = \"parol\"\n",
    "N = 7\n",
    "diz[starting_sequence]\n",
    "for i in range(0, N):\n",
    "    letter = random.choice(diz[starting_sequence[-int(num):]])\n",
    "    starting_sequence += letter\n",
    "\n",
    "print(starting_sequence)"
   ]
  }
 ],
 "metadata": {
  "kernelspec": {
   "display_name": "Python 3 (ipykernel)",
   "language": "python",
   "name": "python3"
  },
  "language_info": {
   "codemirror_mode": {
    "name": "ipython",
    "version": 3
   },
   "file_extension": ".py",
   "mimetype": "text/x-python",
   "name": "python",
   "nbconvert_exporter": "python",
   "pygments_lexer": "ipython3",
   "version": "3.12.4"
  }
 },
 "nbformat": 4,
 "nbformat_minor": 5
}
