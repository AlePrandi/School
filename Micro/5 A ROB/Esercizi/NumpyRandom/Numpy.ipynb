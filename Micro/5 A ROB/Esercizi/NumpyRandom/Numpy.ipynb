{
 "cells": [
  {
   "cell_type": "markdown",
   "id": "c160eabb-9c24-4d4a-963e-50dcac19c33f",
   "metadata": {},
   "source": [
    "## NUMPY\n",
    "\n",
    "Libreria usata per calcoli complessi e per velocizzare python, è usata in molte altre librerie,\n",
    "ispira altre librerie per IA come Pytorch, Jax e MLX di Apple\n",
    "\n",
    "Numpy è fatta per calcolo con grandi quantità di dati e usa array"
   ]
  },
  {
   "cell_type": "code",
   "execution_count": 2,
   "id": "7f34ac6f-a638-4ee0-9bc9-9b34e683972e",
   "metadata": {},
   "outputs": [],
   "source": [
    "import numpy as np  #numpy è sempre salvato come np\n",
    "import matplotlib.pyplot as plt"
   ]
  },
  {
   "cell_type": "markdown",
   "id": "ef2aaf47-6c12-49cf-a24d-c77fc96fed8a",
   "metadata": {},
   "source": [
    "## Array\n",
    "\n",
    "Array 1d (1 dimensione)"
   ]
  },
  {
   "cell_type": "markdown",
   "id": "ac2bc05e-e0fa-42f5-b0a8-db537e67d4c2",
   "metadata": {},
   "source": [
    "1. Creare un array partendo da una lista"
   ]
  },
  {
   "cell_type": "code",
   "execution_count": 3,
   "id": "ff2a3f55-2c79-43eb-bbf9-1c6bc6a0bbdd",
   "metadata": {},
   "outputs": [
    {
     "data": {
      "text/plain": [
       "array([1., 2., 3., 4.])"
      ]
     },
     "execution_count": 3,
     "metadata": {},
     "output_type": "execute_result"
    }
   ],
   "source": [
    "lista = [1.,2.,3.,4.]\n",
    "array = np.array(lista)\n",
    "\n",
    "array"
   ]
  },
  {
   "cell_type": "code",
   "execution_count": 4,
   "id": "b6c9d480-ca57-4611-98a3-0e30ef61f8a8",
   "metadata": {},
   "outputs": [
    {
     "data": {
      "text/plain": [
       "dtype('float64')"
      ]
     },
     "execution_count": 4,
     "metadata": {},
     "output_type": "execute_result"
    }
   ],
   "source": [
    "array.dtype #Float crea un array di 64bit mentre Int di 32bit"
   ]
  },
  {
   "cell_type": "code",
   "execution_count": 5,
   "id": "65bf85fb-ae9d-443d-9837-eee3e8ae33cf",
   "metadata": {},
   "outputs": [
    {
     "data": {
      "text/plain": [
       "array([1., 2., 3., 4.], dtype=float16)"
      ]
     },
     "execution_count": 5,
     "metadata": {},
     "output_type": "execute_result"
    }
   ],
   "source": [
    "lista = [1,2,3,4]\n",
    "array = np.array(lista, dtype = np.float16) #il dtype può anche essere specificato\n",
    "\n",
    "array"
   ]
  },
  {
   "cell_type": "code",
   "execution_count": 6,
   "id": "feb1a243-635c-459f-ac96-ed0657bae6f0",
   "metadata": {},
   "outputs": [
    {
     "data": {
      "text/plain": [
       "array([0, 0, 0, 0, 0], dtype=int64)"
      ]
     },
     "execution_count": 6,
     "metadata": {},
     "output_type": "execute_result"
    }
   ],
   "source": [
    "#creare array di zeri\n",
    "array = np.zeros(5, np.int64)\n",
    "array"
   ]
  },
  {
   "cell_type": "code",
   "execution_count": 7,
   "id": "b0047b8a-13a7-45b4-9cb4-8bfb9361dba9",
   "metadata": {},
   "outputs": [
    {
     "data": {
      "text/plain": [
       "array([1., 1., 1., 1., 1., 1., 1.], dtype=float16)"
      ]
     },
     "execution_count": 7,
     "metadata": {},
     "output_type": "execute_result"
    }
   ],
   "source": [
    "array = np.ones(7, np.float16) # per crearlo di altri numeri si può fare N * np.ones\n",
    "array"
   ]
  },
  {
   "cell_type": "markdown",
   "id": "942519e1-360c-47ea-ad07-26b4de7a4e61",
   "metadata": {},
   "source": [
    "*Per gli array valgono le regole di **indicizzazione e di slicing** delle **liste***"
   ]
  },
  {
   "cell_type": "code",
   "execution_count": 8,
   "id": "45f631b0-dcde-4042-8749-1d53b66bdde1",
   "metadata": {},
   "outputs": [
    {
     "data": {
      "text/plain": [
       "8.9132"
      ]
     },
     "execution_count": 8,
     "metadata": {},
     "output_type": "execute_result"
    }
   ],
   "source": [
    "lista = [1., 3.5, 6.12, 8.9132, 10.10]\n",
    "array = np.array(lista)\n",
    "array[3]"
   ]
  },
  {
   "cell_type": "markdown",
   "id": "3cc3f7cf-32df-4982-9960-ceda4526a3a0",
   "metadata": {},
   "source": [
    "## slicing delle liste"
   ]
  },
  {
   "cell_type": "code",
   "execution_count": 9,
   "id": "643a83d1-a7ac-4ba6-a0e0-031b75473c87",
   "metadata": {},
   "outputs": [
    {
     "data": {
      "text/plain": [
       "array([3.5 , 6.12])"
      ]
     },
     "execution_count": 9,
     "metadata": {},
     "output_type": "execute_result"
    }
   ],
   "source": [
    "array[1:3]"
   ]
  },
  {
   "cell_type": "code",
   "execution_count": 10,
   "id": "7faf0364-b5ca-4135-8425-c551ef0aa11f",
   "metadata": {},
   "outputs": [
    {
     "data": {
      "text/plain": [
       "array([10.1   ,  8.9132,  6.12  ,  3.5   ,  1.    ])"
      ]
     },
     "execution_count": 10,
     "metadata": {},
     "output_type": "execute_result"
    }
   ],
   "source": [
    "array[::-1]"
   ]
  },
  {
   "cell_type": "markdown",
   "id": "3cc97c3d-4ef6-448f-927e-b4e5a515bb86",
   "metadata": {},
   "source": [
    "### Indici e slicing di sugli array Numpy permettono anche di fare assegnamento"
   ]
  },
  {
   "cell_type": "code",
   "execution_count": 11,
   "id": "1e5555cf-70ba-45ab-88db-950964c12052",
   "metadata": {},
   "outputs": [
    {
     "data": {
      "text/plain": [
       "array([ 9.    ,  9.    ,  9.    ,  8.9132, 10.1   ])"
      ]
     },
     "execution_count": 11,
     "metadata": {},
     "output_type": "execute_result"
    }
   ],
   "source": [
    "array[:3] = 9 # BROADCASTING\n",
    "array"
   ]
  },
  {
   "cell_type": "code",
   "execution_count": 12,
   "id": "da100e69-6cf4-48fd-b51d-7cca0a7491dd",
   "metadata": {},
   "outputs": [
    {
     "data": {
      "text/plain": [
       "array([ 1.    ,  2.    ,  3.    ,  8.9132, 10.1   ])"
      ]
     },
     "execution_count": 12,
     "metadata": {},
     "output_type": "execute_result"
    }
   ],
   "source": [
    "array[:3] = np.array([1,2,3])\n",
    "# array[:3] = np.array([1,2]) non è possibile\n",
    "array"
   ]
  },
  {
   "cell_type": "markdown",
   "id": "7ec4c1b9-f024-4099-b26d-f2ea029906bd",
   "metadata": {},
   "source": [
    "### Esercizio\n",
    "\n",
    "Dato n numeri interi > 1, creare un array di interi di lunghezza n che la forma seguente (esempio per n=5):\n",
    "` <- back tick (alt + 96) per fare righe di codice in markdown\n",
    "\n",
    "`[0,1,0,1,0]`"
   ]
  },
  {
   "cell_type": "code",
   "execution_count": 13,
   "id": "1f38476f-0165-4d41-ad06-e3000baa9a0a",
   "metadata": {},
   "outputs": [],
   "source": [
    "n = 10\n",
    "array = np.zeros(n, dtype = np.int8)\n",
    "array[1::2] = 1"
   ]
  },
  {
   "cell_type": "markdown",
   "id": "b55d9b82-0621-439b-b79c-96bd838de90a",
   "metadata": {},
   "source": [
    "**Gli array di Numpy si comportano come vettori della matematica**"
   ]
  },
  {
   "cell_type": "code",
   "execution_count": 14,
   "id": "8dbfa37c-7aad-4444-9737-60ff68a728d1",
   "metadata": {},
   "outputs": [
    {
     "data": {
      "text/plain": [
       "array([ 3., 13.])"
      ]
     },
     "execution_count": 14,
     "metadata": {},
     "output_type": "execute_result"
    }
   ],
   "source": [
    "punto = np.array([1.,5.])\n",
    "spostamento = np.array([2., 8.])\n",
    "nuova_pos = punto + spostamento # a differenza delle liste non fa l'append ma somma i valori dentro \n",
    "nuova_pos"
   ]
  },
  {
   "cell_type": "code",
   "execution_count": 15,
   "id": "e42386a1-03f3-4171-a39c-1fedf6a75d61",
   "metadata": {},
   "outputs": [
    {
     "data": {
      "text/plain": [
       "array([15., 65.])"
      ]
     },
     "execution_count": 15,
     "metadata": {},
     "output_type": "execute_result"
    }
   ],
   "source": [
    "#zoom su un fattore\n",
    "nuova_pos*5"
   ]
  },
  {
   "cell_type": "code",
   "execution_count": 16,
   "id": "a87b1a75",
   "metadata": {},
   "outputs": [],
   "source": [
    "x = np.linspace(0., 10., 21) # genera valori equspaziati\n",
    "x = np.linspace(0., 2*np.pi, 21)\n",
    "y = np.sin(x) "
   ]
  },
  {
   "cell_type": "code",
   "execution_count": 17,
   "id": "82dc0b3b",
   "metadata": {},
   "outputs": [
    {
     "data": {
      "text/plain": [
       "[<matplotlib.lines.Line2D at 0x2a55e3288f0>]"
      ]
     },
     "execution_count": 17,
     "metadata": {},
     "output_type": "execute_result"
    },
    {
     "data": {
      "image/png": "[encoded data removed]",
      "text/plain": [
       "<Figure size 640x480 with 1 Axes>"
      ]
     },
     "metadata": {},
     "output_type": "display_data"
    }
   ],
   "source": [
    "plt.plot(x, y)"
   ]
  },
  {
   "cell_type": "markdown",
   "id": "efce7ece",
   "metadata": {},
   "source": [
    "## Generazione array pseudo-casuali"
   ]
  },
  {
   "cell_type": "code",
   "execution_count": 18,
   "id": "d0d7a7b1",
   "metadata": {},
   "outputs": [
    {
     "data": {
      "text/plain": [
       "array([5, 3, 6, 6, 3, 6, 5, 4, 5, 6, 5, 1])"
      ]
     },
     "execution_count": 18,
     "metadata": {},
     "output_type": "execute_result"
    }
   ],
   "source": [
    "# generazione numeri casuali interi\n",
    "np.random.randint(1, 7, 12) # genera 12 numeri casauli compresi tra 1 e 7 escluso"
   ]
  },
  {
   "cell_type": "markdown",
   "id": "7e664c0e",
   "metadata": {},
   "source": [
    "### **Esercizio**: simula una partita a dadi con n lanci tra Alice e Bob"
   ]
  },
  {
   "cell_type": "code",
   "execution_count": 19,
   "id": "4810d6bc",
   "metadata": {},
   "outputs": [
    {
     "name": "stdout",
     "output_type": "stream",
     "text": [
      "Lanci di Alice: [5 6 3 5 5 5 3 4 4 6]\n",
      "Lanci di Bob: [6 2 1 4 2 4 5 5 3 3]\n"
     ]
    }
   ],
   "source": [
    "n = 10\n",
    "Alice = np.random.randint(1, 7, n)\n",
    "Bob = np.random.randint(1, 7, n)\n",
    "\n",
    "print(f\"Lanci di Alice: {Alice}\")\n",
    "print(f\"Lanci di Bob: {Bob}\")"
   ]
  },
  {
   "cell_type": "markdown",
   "id": "c9e8e7e3",
   "metadata": {},
   "source": [
    "Quante volte vince Alice ?"
   ]
  },
  {
   "cell_type": "code",
   "execution_count": 20,
   "id": "5098daf8",
   "metadata": {},
   "outputs": [
    {
     "data": {
      "text/plain": [
       "array([False,  True,  True,  True,  True,  True, False, False,  True,\n",
       "        True])"
      ]
     },
     "execution_count": 20,
     "metadata": {},
     "output_type": "execute_result"
    }
   ],
   "source": [
    "alice_vince = Alice > Bob\n",
    "alice_vince"
   ]
  },
  {
   "cell_type": "code",
   "execution_count": 21,
   "id": "d169d26f",
   "metadata": {},
   "outputs": [
    {
     "data": {
      "text/plain": [
       "dtype('bool')"
      ]
     },
     "execution_count": 21,
     "metadata": {},
     "output_type": "execute_result"
    }
   ],
   "source": [
    "alice_vince.dtype"
   ]
  },
  {
   "cell_type": "code",
   "execution_count": 22,
   "id": "26c9556c",
   "metadata": {},
   "outputs": [
    {
     "name": "stdout",
     "output_type": "stream",
     "text": [
      "Alice ha vinto: 7 volte\n"
     ]
    }
   ],
   "source": [
    "print(f\"Alice ha vinto: {np.count_nonzero(alice_vince)} volte\")"
   ]
  },
  {
   "cell_type": "markdown",
   "id": "cddcd643",
   "metadata": {},
   "source": [
    "Quali sono i punteggi di alice quando vince ?"
   ]
  },
  {
   "cell_type": "code",
   "execution_count": 23,
   "id": "01803894",
   "metadata": {},
   "outputs": [
    {
     "data": {
      "text/plain": [
       "array([6, 3, 5, 5, 5, 4, 6])"
      ]
     },
     "execution_count": 23,
     "metadata": {},
     "output_type": "execute_result"
    }
   ],
   "source": [
    "Alice[alice_vince] # INDICIZZAZIONE BOOLEANA"
   ]
  },
  {
   "cell_type": "markdown",
   "id": "4ee3cb3f",
   "metadata": {},
   "source": [
    "Bob è disonesto: quando perde manomette il suo punteggio, portandolo a 6. Manomettere l'array dei punteggi di Bob"
   ]
  },
  {
   "cell_type": "code",
   "execution_count": 24,
   "id": "b3fcc17a",
   "metadata": {},
   "outputs": [
    {
     "data": {
      "text/plain": [
       "array([False,  True,  True,  True,  True,  True, False, False,  True,\n",
       "        True])"
      ]
     },
     "execution_count": 24,
     "metadata": {},
     "output_type": "execute_result"
    }
   ],
   "source": [
    "bob_perde = Bob < Alice\n",
    "bob_perde"
   ]
  },
  {
   "cell_type": "code",
   "execution_count": 25,
   "id": "8aea30e0",
   "metadata": {},
   "outputs": [
    {
     "data": {
      "text/plain": [
       "array([6, 6, 6, 6, 6, 6, 5, 5, 6, 6])"
      ]
     },
     "execution_count": 25,
     "metadata": {},
     "output_type": "execute_result"
    }
   ],
   "source": [
    "Bob[bob_perde] = 6 # Indicizzazione booleana per fare assegnazione!\n",
    "Bob"
   ]
  },
  {
   "cell_type": "markdown",
   "id": "829d3ec9",
   "metadata": {},
   "source": [
    "# Array 2d"
   ]
  },
  {
   "cell_type": "code",
   "execution_count": 26,
   "id": "11265178",
   "metadata": {},
   "outputs": [
    {
     "data": {
      "text/plain": [
       "array([[0., 0., 0., 0., 0., 0., 0., 0., 0., 0.],\n",
       "       [0., 0., 0., 0., 0., 0., 0., 0., 0., 0.],\n",
       "       [0., 0., 0., 0., 0., 0., 0., 0., 0., 0.],\n",
       "       [0., 0., 0., 0., 0., 0., 0., 0., 0., 0.],\n",
       "       [0., 0., 0., 0., 0., 0., 0., 0., 0., 0.],\n",
       "       [0., 0., 0., 0., 0., 0., 0., 0., 0., 0.],\n",
       "       [0., 0., 0., 0., 0., 0., 0., 0., 0., 0.],\n",
       "       [0., 0., 0., 0., 0., 0., 0., 0., 0., 0.],\n",
       "       [0., 0., 0., 0., 0., 0., 0., 0., 0., 0.],\n",
       "       [0., 0., 0., 0., 0., 0., 0., 0., 0., 0.]])"
      ]
     },
     "execution_count": 26,
     "metadata": {},
     "output_type": "execute_result"
    }
   ],
   "source": [
    "array2d = np.zeros((10,10))\n",
    "array2d"
   ]
  },
  {
   "cell_type": "code",
   "execution_count": 27,
   "id": "a3ef8a0f",
   "metadata": {},
   "outputs": [
    {
     "data": {
      "text/plain": [
       "<matplotlib.image.AxesImage at 0x2a55e351a90>"
      ]
     },
     "execution_count": 27,
     "metadata": {},
     "output_type": "execute_result"
    },
    {
     "data": {
      "image/png": "[encoded data removed]",
      "text/plain": [
       "<Figure size 640x480 with 1 Axes>"
      ]
     },
     "metadata": {},
     "output_type": "display_data"
    }
   ],
   "source": [
    "plt.imshow(array2d, cmap='Greys')"
   ]
  },
  {
   "cell_type": "code",
   "execution_count": 50,
   "id": "33ff10a8",
   "metadata": {},
   "outputs": [
    {
     "data": {
      "text/plain": [
       "array([[0., 1., 0., 1., 0., 1., 0., 1., 0., 1.],\n",
       "       [1., 0., 1., 0., 1., 0., 1., 0., 1., 0.],\n",
       "       [0., 1., 0., 1., 0., 1., 0., 1., 0., 1.],\n",
       "       [1., 0., 1., 0., 1., 0., 1., 0., 1., 0.],\n",
       "       [0., 1., 0., 1., 0., 1., 0., 1., 0., 1.],\n",
       "       [1., 0., 1., 0., 1., 0., 1., 0., 1., 0.],\n",
       "       [0., 1., 0., 1., 0., 1., 0., 1., 0., 1.],\n",
       "       [1., 0., 1., 0., 1., 0., 1., 0., 1., 0.],\n",
       "       [0., 1., 0., 1., 0., 1., 0., 1., 0., 1.],\n",
       "       [1., 0., 1., 0., 1., 0., 1., 0., 1., 0.]])"
      ]
     },
     "execution_count": 50,
     "metadata": {},
     "output_type": "execute_result"
    }
   ],
   "source": [
    "array2d = np.zeros((10,10))\n",
    "array2d[1::2, 0::2] = 1\n",
    "array2d[0::2, 1::2] = 1\n",
    "array2d"
   ]
  },
  {
   "cell_type": "code",
   "execution_count": 51,
   "id": "d0840c09",
   "metadata": {},
   "outputs": [
    {
     "data": {
      "text/plain": [
       "<matplotlib.image.AxesImage at 0x2a55e3871a0>"
      ]
     },
     "execution_count": 51,
     "metadata": {},
     "output_type": "execute_result"
    },
    {
     "data": {
      "image/png": "[encoded data removed]",
      "text/plain": [
       "<Figure size 640x480 with 1 Axes>"
      ]
     },
     "metadata": {},
     "output_type": "display_data"
    }
   ],
   "source": [
    "plt.imshow(array2d, cmap='Greys')"
   ]
  },
  {
   "cell_type": "code",
   "execution_count": null,
   "id": "5e7cb3aa",
   "metadata": {},
   "outputs": [],
   "source": []
  }
 ],
 "metadata": {
  "kernelspec": {
   "display_name": "Python 3",
   "language": "python",
   "name": "python3"
  },
  "language_info": {
   "codemirror_mode": {
    "name": "ipython",
    "version": 3
   },
   "file_extension": ".py",
   "mimetype": "text/x-python",
   "name": "python",
   "nbconvert_exporter": "python",
   "pygments_lexer": "ipython3",
   "version": "3.12.5"
  }
 },
 "nbformat": 4,
 "nbformat_minor": 5
}
