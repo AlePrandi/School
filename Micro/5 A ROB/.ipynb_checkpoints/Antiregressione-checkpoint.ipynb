{
 "cells": [
  {
   "cell_type": "markdown",
   "id": "9466f07d-ddad-456f-b70a-c349e5204f4c",
   "metadata": {},
   "source": [
    "# ANTIREGRESSIONE GENERAZIONE TESTO"
   ]
  },
  {
   "cell_type": "markdown",
   "id": "c367c984-04d3-472f-8aad-f19ccd65e08b",
   "metadata": {},
   "source": [
    "### Metodo di generezione di testo delle LLM"
   ]
  },
  {
   "cell_type": "code",
   "execution_count": 3,
   "id": "358a1d12-fd4b-439d-bacc-b27eaa12988a",
   "metadata": {},
   "outputs": [],
   "source": [
    "import random"
   ]
  },
  {
   "cell_type": "code",
   "execution_count": 5,
   "id": "5aecedf5-b6bd-408e-8ebb-1f41d0882d07",
   "metadata": {},
   "outputs": [],
   "source": [
    "def file2list(file = \"oscar_wilde.txt\"):\n",
    "    '''\n",
    "    parameters:\n",
    "    file: file containing text\n",
    "\n",
    "    return:\n",
    "    list of file rows\n",
    "    '''\n",
    "    list = []\n",
    "    with open(file, \"r\") as f:\n",
    "        list = [r for r in f.readlines() if len(r) > 1]\n",
    "\n",
    "    return list\n",
    "    "
   ]
  },
  {
   "cell_type": "code",
   "execution_count": 11,
   "id": "71e691e2-62e9-4bee-a776-5b87c77e11c7",
   "metadata": {},
   "outputs": [],
   "source": [
    "def possible_successor(your_list, n):\n",
    "    '''\n",
    "    Creates a dictionary that maps each sequence of 'n' characters (combinations) \n",
    "    from the text to the list of characters that immediately follow it.\n",
    "\n",
    "    Parameters:\n",
    "    your_list (list): A list of strings that will be concatenated to form a text.\n",
    "    n (int): The length of the sequence (combination) of characters to be analyzed.\n",
    "\n",
    "    Returns:\n",
    "    diz_comb: A dictionary where the keys are combinations of 'n' characters found in the text,\n",
    "          and the values are lists containing the characters that follow each combination.\n",
    "    '''\n",
    "    text = \"\".join(your_list)\n",
    "    diz_comb = {}\n",
    "    for pos in range(0, len(text) - n):\n",
    "        comb = text[pos:pos+n] \n",
    "        c = text[pos+n]\n",
    "        \n",
    "        if comb in diz_comb:\n",
    "            diz_comb[comb].append(c)\n",
    "        else:\n",
    "            diz_comb[comb] = [c] \n",
    "    \n",
    "    return diz_comb\n"
   ]
  },
  {
   "cell_type": "code",
   "execution_count": 102,
   "id": "33ff9185-c4df-4843-8670-a99440091993",
   "metadata": {},
   "outputs": [
    {
     "name": "stdout",
     "output_type": "stream",
     "text": [
      "marcato degli amici e come ad ora aveva uno stra e buon avere\n",
      "un trate. Il capellinee,\n",
      "perduta alla cinguino, i due vi fece raffretto brutte e la sua ritrata dati! Egli si alberi fioritÃ  provo il suoi piÃ¹ grando la si dal signor Otis, se tre in un veramente matrimonito, facentiva che la l'umilmenti e\n",
      "mericoncepiscondurlo tempi che vide creatura; essa.\n",
      "â€” dicendermere.\n",
      "PartÃ©_, quando i loro precedono dopo Ã¨ tagli i bara zingari gli allusioni sere il ritrovere comune.\n",
      "Il _Lord Arturo sacrimente in taccani la segreti d'occhiati, come avessere non una stato non vecchio far\n",
      "salone; sul palafreniente una giunse, riso il volte nella sua finestra mormor, e il cinquillo con mente e sempre pranzo del veleno Ã¨ difficile suo cosÃ¬ dalla\n",
      "terzo. Tutta la violentali modo duchessa accontementario del quanto agito eranto sudor e gli riso sono avestÃ² al\n",
      "loro grassolutamente del corre del suo vole di\n",
      "cana, giorno in\n",
      "tono dall'attera stano tito megli rifica a paura; Sibilla, colo quindigestina di potut\n"
     ]
    }
   ],
   "source": [
    "list = file2list()\n",
    "starting_sequence = \"marc\"\n",
    "num = len(starting_sequence)\n",
    "diz = possible_successor(list, num)\n",
    "N = 1000\n",
    "diz[starting_sequence]\n",
    "\n",
    "for i in range(0, N):\n",
    "    letter = random.choice(diz[starting_sequence[-int(num):]])\n",
    "    starting_sequence += letter\n",
    "\n",
    "print(starting_sequence)"
   ]
  },
  {
   "cell_type": "markdown",
   "id": "7b2d0da3-6376-45c6-8eb4-1627b687ff22",
   "metadata": {},
   "source": []
  },
  {
   "cell_type": "code",
   "execution_count": null,
   "id": "04f87c3b-8aa6-45c2-a8a3-e2d41839c308",
   "metadata": {},
   "outputs": [],
   "source": []
  }
 ],
 "metadata": {
  "kernelspec": {
   "display_name": "Python 3 (ipykernel)",
   "language": "python",
   "name": "python3"
  },
  "language_info": {
   "codemirror_mode": {
    "name": "ipython",
    "version": 3
   },
   "file_extension": ".py",
   "mimetype": "text/x-python",
   "name": "python",
   "nbconvert_exporter": "python",
   "pygments_lexer": "ipython3",
   "version": "3.12.4"
  }
 },
 "nbformat": 4,
 "nbformat_minor": 5
}
