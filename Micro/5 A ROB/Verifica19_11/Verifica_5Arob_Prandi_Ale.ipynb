{
 "cells": [
  {
   "cell_type": "markdown",
   "id": "44ce9d47",
   "metadata": {},
   "source": [
    "# Verifica su Python e Numpy classe 5A rob\n",
    "**NOTA**:  ⚠️ istruzioni e costrutti python/numpy non visti a lezione invalideranno la soluzione degli esercizi! ⚠️\n",
    "### COGNOME NOME"
   ]
  },
  {
   "cell_type": "code",
   "execution_count": 2,
   "id": "6f9ac6d2",
   "metadata": {},
   "outputs": [],
   "source": [
    "import numpy as np\n",
    "import matplotlib.pyplot as plt"
   ]
  },
  {
   "cell_type": "markdown",
   "id": "e75da7dd",
   "metadata": {},
   "source": [
    "## ESERCIZIO 1\n",
    "Il file *10000Pi.txt* contiene le prime 10000 cifre del $\\pi$ in base 10.\n",
    "\n",
    "Crea un programma in Python che legga il file e generi un dizionario in cui:\n",
    "* le chiavi siano le cifre da 0 a 9,\n",
    "* i valori siano il numero di occorrenze della cifra chiave nelle prime 10000 cifre decimali del $\\pi$.\n",
    "\n",
    "Rispondi alle domande seguenti:\n",
    "* nelle cifre del $\\pi$ capita più spesso uno 0 dopo il 9 oppure un 9 dopo lo 0?\n",
    "* è presente la seguenza 999999? In caso di risposta affermativa individua in quale punto della sequenza di cifre decimali è presente."
   ]
  },
  {
   "cell_type": "code",
   "execution_count": null,
   "id": "c238539f",
   "metadata": {},
   "outputs": [
    {
     "data": {
      "text/plain": [
       "({'3': 975,\n",
       "  '1': 1026,\n",
       "  '4': 1012,\n",
       "  '5': 1046,\n",
       "  '9': 1014,\n",
       "  '2': 1021,\n",
       "  '6': 1021,\n",
       "  '8': 948,\n",
       "  '7': 970,\n",
       "  '0': 968},\n",
       " 112,\n",
       " 115,\n",
       " 763)"
      ]
     },
     "execution_count": 6,
     "metadata": {},
     "output_type": "execute_result"
    }
   ],
   "source": [
    "diz_chiavi = {}\n",
    "non_cont = [\".\", \" \", \"\\n\"]\n",
    "cont9post0 = 0\n",
    "cont0post9 = 0\n",
    "with open(\"./10000Pi.txt\", \"r\") as file:\n",
    "    f = file.read()\n",
    "    for i in range(len(f)):\n",
    "        if f[i] not in non_cont:\n",
    "            if f[i] in diz_chiavi:\n",
    "                diz_chiavi[f[i]] += 1\n",
    "            else:\n",
    "                diz_chiavi[f[i]] = 1\n",
    "\n",
    "            if f[i] == \"0\" and f[i+1] == \"9\":\n",
    "                cont9post0 += 1\n",
    "            if f[i] == \"9\" and f[i+1] == \"0\":\n",
    "                cont0post9 += 1\n",
    "            pos = f.find(\"999999\")\n",
    "\n",
    "diz_chiavi, cont0post9, cont9post0,pos\n",
    "    "
   ]
  },
  {
   "cell_type": "markdown",
   "id": "8446b35f",
   "metadata": {},
   "source": [
    "## ESERCIZIO 2\n",
    "Dato un numero intero n crea un array numpy unidimensionale fatto in questo modo:\n",
    "\n",
    "    [-n, -n+1, -n+2, ...,-1, 0, 1, ..., n-2, n-1, n]\n",
    "    \n",
    "Per esempio se n=3 l'array è:\n",
    "\n",
    "    [-3, -2, -1, 0, 1, 2, 3]\n",
    "    \n",
    "**NON PUOI USARE CICLI, IF E LISTE**"
   ]
  },
  {
   "cell_type": "code",
   "execution_count": 4,
   "id": "dd7a28bb",
   "metadata": {},
   "outputs": [
    {
     "data": {
      "text/plain": [
       "array([-3., -2., -1.,  0.,  1.,  2.,  3.])"
      ]
     },
     "execution_count": 4,
     "metadata": {},
     "output_type": "execute_result"
    }
   ],
   "source": [
    "n = 3\n",
    "array_pos = np.arange(1,n +1)\n",
    "array_neg = -array_pos[::-1]\n",
    "dim = n*2 + 1\n",
    "array_finale = np.zeros(dim)\n",
    "array_finale[:dim // 2] = array_neg\n",
    "array_finale[dim // 2:dim // 2 + 1] = 0\n",
    "array_finale[dim // 2 + 1:] = array_pos\n",
    "array_finale"
   ]
  },
  {
   "cell_type": "markdown",
   "id": "c681a56c",
   "metadata": {},
   "source": [
    "### ESERCIZIO 3\n",
    "Simula 100 partite di pari e dispari tra Alice e Bob. Ogni partita è giocata con una mano, quindi i numeri mostrati da Alice e da Bob sono sempre compresi tra 1 e 5. **Simula le partite usando un solo array bidimensionale.**\n",
    "\n",
    "Alice dichiara sempre pari e Bob sempre dispari.\n",
    "\n",
    "1) Quante volte vince Alice?\n",
    "\n",
    "2) Se nelle 100 partite Alice fa uscire sempre 3, quante volte vince?\n",
    "\n",
    "**NON PUOI USARE CICLI, IF E LISTE**"
   ]
  },
  {
   "cell_type": "code",
   "execution_count": null,
   "id": "58177ffd",
   "metadata": {},
   "outputs": [
    {
     "name": "stdout",
     "output_type": "stream",
     "text": [
      "Vince Bob\n",
      "[[3 4]\n",
      " [3 4]\n",
      " [3 4]\n",
      " [3 3]\n",
      " [3 2]\n",
      " [3 4]\n",
      " [3 4]\n",
      " [3 1]\n",
      " [3 4]\n",
      " [3 1]\n",
      " [3 5]\n",
      " [3 3]\n",
      " [3 5]\n",
      " [3 3]\n",
      " [3 2]\n",
      " [3 3]\n",
      " [3 3]\n",
      " [3 2]\n",
      " [3 3]\n",
      " [3 1]\n",
      " [3 5]\n",
      " [3 1]\n",
      " [3 5]\n",
      " [3 3]\n",
      " [3 1]\n",
      " [3 3]\n",
      " [3 5]\n",
      " [3 1]\n",
      " [3 3]\n",
      " [3 4]\n",
      " [3 3]\n",
      " [3 1]\n",
      " [3 5]\n",
      " [3 1]\n",
      " [3 4]\n",
      " [3 2]\n",
      " [3 4]\n",
      " [3 5]\n",
      " [3 4]\n",
      " [3 3]\n",
      " [3 2]\n",
      " [3 5]\n",
      " [3 4]\n",
      " [3 1]\n",
      " [3 5]\n",
      " [3 2]\n",
      " [3 4]\n",
      " [3 3]\n",
      " [3 2]\n",
      " [3 3]\n",
      " [3 1]\n",
      " [3 2]\n",
      " [3 2]\n",
      " [3 3]\n",
      " [3 5]\n",
      " [3 1]\n",
      " [3 4]\n",
      " [3 3]\n",
      " [3 1]\n",
      " [3 5]\n",
      " [3 5]\n",
      " [3 5]\n",
      " [3 5]\n",
      " [3 5]\n",
      " [3 2]\n",
      " [3 4]\n",
      " [3 3]\n",
      " [3 3]\n",
      " [3 5]\n",
      " [3 1]\n",
      " [3 5]\n",
      " [3 2]\n",
      " [3 5]\n",
      " [3 1]\n",
      " [3 4]\n",
      " [3 4]\n",
      " [3 3]\n",
      " [3 3]\n",
      " [3 3]\n",
      " [3 4]\n",
      " [3 2]\n",
      " [3 3]\n",
      " [3 5]\n",
      " [3 1]\n",
      " [3 3]\n",
      " [3 3]\n",
      " [3 2]\n",
      " [3 4]\n",
      " [3 1]\n",
      " [3 1]\n",
      " [3 5]\n",
      " [3 1]\n",
      " [3 4]\n",
      " [3 1]\n",
      " [3 1]\n",
      " [3 3]\n",
      " [3 4]\n",
      " [3 3]\n",
      " [3 1]\n",
      " [3 4]]\n"
     ]
    }
   ],
   "source": [
    "partite = np.random.randint(1,6, (100,2))\n",
    "partite\n",
    "somme = np.sum(partite, axis=1)\n",
    "somme\n",
    "alice,bob = somme[somme % 2 == 0], somme[somme % 2 != 0]\n",
    "alice,bob\n",
    "\n",
    "print(\"Vince Alice\" if len(alice) > len(bob) else \"Vince Bob\")\n",
    "\n",
    "partite = np.random.randint(1,6, (100,2))\n",
    "partite[:,0] = 3\n",
    "somme = np.sum(partite, axis=1)\n",
    "somme\n",
    "alice,bob = somme[somme % 2 == 0], somme[somme % 2 != 0]\n",
    "alice,bob\n",
    "\n",
    "print(\"Vince Alice Truccata\" if len(alice) > len(bob) else \"Vince Bob\")\n",
    "\n"
   ]
  },
  {
   "attachments": {
    "7585f8bf-e174-4f66-867f-554c25ba35dd.png": {
     "image/png": "[encoded data removed]"
    }
   },
   "cell_type": "markdown",
   "id": "67ec09e9",
   "metadata": {},
   "source": [
    "## ESERCIZIO 4 (BONUS, Facoltativo per DSA)\n",
    "Usa numpy per creare l'immagine seguente composta da n righe e 2n colonne. L'intensità del colore è casuale nella metà sinistra della. matrice, a scacchiera nella metà destra. \n",
    "\n",
    "**NON PUOI USARE CICLI, IF E LISTE**\n",
    "\n",
    "Per esempio con n = 10:\n",
    "\n",
    "![matrice.png](attachment:7585f8bf-e174-4f66-867f-554c25ba35dd.png)\n",
    "\n",
    "Codice per visualizzare l'immagine:\n",
    "\n",
    "    plt.imshow(mat)"
   ]
  },
  {
   "cell_type": "code",
   "execution_count": 12,
   "id": "744604f2",
   "metadata": {},
   "outputs": [
    {
     "data": {
      "text/plain": [
       "<matplotlib.image.AxesImage at 0x1ff802c5670>"
      ]
     },
     "execution_count": 12,
     "metadata": {},
     "output_type": "execute_result"
    },
    {
     "data": {
      "image/png": "[encoded data removed]",
      "text/plain": [
       "<Figure size 640x480 with 1 Axes>"
      ]
     },
     "metadata": {},
     "output_type": "display_data"
    }
   ],
   "source": [
    "n = 10\n",
    "array = np.random.uniform(0.,1.,(n, n*2))\n",
    "array[:, n:] = 0\n",
    "array[0::2,n::2] = 1\n",
    "array[1::2,n +1 ::2] = 1\n",
    "array[n::2,0::2] = 0\n",
    "plt.imshow(array)"
   ]
  }
 ],
 "metadata": {
  "kernelspec": {
   "display_name": "base",
   "language": "python",
   "name": "python3"
  },
  "language_info": {
   "codemirror_mode": {
    "name": "ipython",
    "version": 3
   },
   "file_extension": ".py",
   "mimetype": "text/x-python",
   "name": "python",
   "nbconvert_exporter": "python",
   "pygments_lexer": "ipython3",
   "version": "3.12.4"
  }
 },
 "nbformat": 4,
 "nbformat_minor": 5
}
